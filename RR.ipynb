{
  "nbformat": 4,
  "nbformat_minor": 0,
  "metadata": {
    "colab": {
      "name": "RR.ipynb",
      "provenance": [],
      "private_outputs": true,
      "authorship_tag": "ABX9TyOiV56LAKhKaguL1olWf/Bn",
      "include_colab_link": true
    },
    "kernelspec": {
      "name": "python3",
      "display_name": "Python 3"
    }
  },
  "cells": [
    {
      "cell_type": "markdown",
      "metadata": {
        "id": "view-in-github",
        "colab_type": "text"
      },
      "source": [
        "<a href=\"https://colab.research.google.com/github/mxhit-j/hello-world/blob/RR/RR.ipynb\" target=\"_parent\"><img src=\"https://colab.research.google.com/assets/colab-badge.svg\" alt=\"Open In Colab\"/></a>"
      ]
    },
    {
      "cell_type": "code",
      "metadata": {
        "id": "hpihMwFSxNHx",
        "colab_type": "code",
        "colab": {}
      },
      "source": [
        "import os\n",
        "import numpy as np\n",
        "import matplotlib.pyplot as plt"
      ],
      "execution_count": null,
      "outputs": []
    },
    {
      "cell_type": "code",
      "metadata": {
        "id": "JxtcQ9pdxUU1",
        "colab_type": "code",
        "colab": {}
      },
      "source": [
        "fname = \"kay_labels.npy\"\n",
        "if not os.path.exists(fname):\n",
        "  !wget -qO $fname https://osf.io/r638s/download\n",
        "fname = \"kay_labels_val.npy\"\n",
        "if not os.path.exists(fname):\n",
        "  !wget -qO $fname https://osf.io/yqb3e/download\n",
        "fname = \"kay_images.npz\"\n",
        "if not os.path.exists(fname):\n",
        "  !wget -qO $fname https://osf.io/ymnjv/download"
      ],
      "execution_count": null,
      "outputs": []
    },
    {
      "cell_type": "code",
      "metadata": {
        "id": "vYR550ckxWyn",
        "colab_type": "code",
        "colab": {}
      },
      "source": [
        "with np.load(fname) as dobj:\n",
        "    dat = dict(**dobj)\n",
        "labels = np.load('kay_labels.npy')\n",
        "val_labels = np.load('kay_labels_val.npy')"
      ],
      "execution_count": null,
      "outputs": []
    },
    {
      "cell_type": "code",
      "metadata": {
        "id": "eoWwlblZxZVn",
        "colab_type": "code",
        "colab": {}
      },
      "source": [
        "dict(zip(dat[\"roi_names\"], np.bincount(dat[\"roi\"])))"
      ],
      "execution_count": null,
      "outputs": []
    },
    {
      "cell_type": "code",
      "metadata": {
        "id": "fkJd7NN0xctA",
        "colab_type": "code",
        "colab": {}
      },
      "source": [
        ""
      ],
      "execution_count": null,
      "outputs": []
    },
    {
      "cell_type": "code",
      "metadata": {
        "id": "6JbwzVgKxLJU",
        "colab_type": "code",
        "colab": {}
      },
      "source": [
        "from sklearn.linear_model import Ridge\n",
        "\n",
        "train_response = dat[\"responses\"]\n",
        "test_response = dat[\"responses_test\"]\n",
        "\n",
        "print(train_response.shape)\n",
        "\n",
        "\n",
        "train_stim = np.zeros([1750,16384])\n",
        "test_stim = np.zeros([120,16384])\n",
        "\n",
        "\n",
        "\n",
        "# Obtain flattened train data \n",
        "for i in range(0, 1750):\n",
        "  train_stim[i] = dat[\"stimuli\"][i].flatten()\n",
        "\n",
        "# Obtain flattened test data\n",
        "for i in range(0,120):\n",
        "  test_stim[i] = dat[\"stimuli_test\"][i].flatten()\n",
        "\n",
        "\n",
        "\n",
        "#W = np.zeros([1750,8428,16384])\n",
        "\n",
        "rr = Ridge(alpha=0.01)\n",
        "\n",
        "W = rr.fit(train_stim, train_response) \n"
      ],
      "execution_count": null,
      "outputs": []
    }
  ]
}